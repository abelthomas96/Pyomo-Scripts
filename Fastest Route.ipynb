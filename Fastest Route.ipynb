{
 "cells": [
  {
   "cell_type": "code",
   "execution_count": 1,
   "id": "c2eeb753",
   "metadata": {},
   "outputs": [],
   "source": [
    "from pyomo.environ import *\n",
    "import matplotlib.pyplot as plt\n",
    "import numpy as np\n",
    "import random\n",
    "#minimise OF = L1/v1+L1/v2\n",
    "# given L1=2*R*cos(theta)\n",
    "#given L2=2*theta*r\n",
    "# 0<theta<pi/2"
   ]
  },
  {
   "cell_type": "code",
   "execution_count": 2,
   "id": "394e07c0",
   "metadata": {},
   "outputs": [],
   "source": [
    "model = ConcreteModel()#defining that the optimisation mimics a concrete model\n",
    "model.R=Param(initialize=10) # trying to initialize with a random variable\n",
    "model.v1 = Param(initialize=4) #model 1--> refers to parameter v1 (v1>v2)\n",
    "model.v2 = Param(initialize=3) #model 2-->refers to parameter v2\n",
    "model.theta=Var(bounds=(0,np.pi/2), initialize=np.pi/3)#Constraint some bounds for the angle\n",
    "model.obj = Objective(expr=(2*model.R*cos(model.theta))/model.v1+((2*(model.theta)*model.R))/model.v2, sense=minimize)# Objective function to be minimised"
   ]
  },
  {
   "cell_type": "code",
   "execution_count": 8,
   "id": "cba2cfe0",
   "metadata": {},
   "outputs": [
    {
     "name": "stdout",
     "output_type": "stream",
     "text": [
      "Theta = 0.0\n",
      "OF = 5\n"
     ]
    }
   ],
   "source": [
    "solver=SolverFactory('ipopt')\n",
    "results=solver.solve(model);\n",
    "print('Theta =',round(value(model.theta))*(180/(np.pi)))\n",
    "print('OF =',round(value(model.obj)))"
   ]
  },
  {
   "cell_type": "code",
   "execution_count": null,
   "id": "01909ca7",
   "metadata": {},
   "outputs": [],
   "source": []
  }
 ],
 "metadata": {
  "kernelspec": {
   "display_name": "Python 3",
   "language": "python",
   "name": "python3"
  },
  "language_info": {
   "codemirror_mode": {
    "name": "ipython",
    "version": 3
   },
   "file_extension": ".py",
   "mimetype": "text/x-python",
   "name": "python",
   "nbconvert_exporter": "python",
   "pygments_lexer": "ipython3",
   "version": "3.8.11"
  }
 },
 "nbformat": 4,
 "nbformat_minor": 5
}
