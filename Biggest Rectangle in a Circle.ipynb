{
 "cells": [
  {
   "cell_type": "code",
   "execution_count": 1,
   "id": "1f217da0",
   "metadata": {},
   "outputs": [],
   "source": [
    "from pyomo.environ import *\n",
    "import matplotlib.pyplot as plt\n",
    "import numpy as np\n",
    "import random \n",
    "# Objective Function F=4*x*y\n",
    "# Constraint x^2+y^2=Radius^2\n",
    "# We need to find the maximum area of the rectangle inscribed"
   ]
  },
  {
   "cell_type": "code",
   "execution_count": 3,
   "id": "e243a3a8",
   "metadata": {},
   "outputs": [],
   "source": [
    "model = ConcreteModel()#defining that the optimisation mimics a concrete model\n",
    "model.Rad=Param(initialize=10) # trying to initialize with a random variable\n",
    "model.x = Var(bounds=(0,model.Rad), initialize=model.Rad ) #model 1--> refers to variable x\n",
    "model.y = Var(bounds=(0,model.Rad), initialize=model.Rad) #model 2-->refers to variable y\n",
    "model.con1=Constraint(expr=model.x**2+model.y**2==model.Rad**2)#Constraint (Pythogaras)\n",
    "model.obj = Objective(expr=4*model.x*model.y, sense=maximize)# Objective function to be maximised"
   ]
  },
  {
   "cell_type": "code",
   "execution_count": 4,
   "id": "1bd5e744",
   "metadata": {},
   "outputs": [],
   "source": [
    "Res=SolverFactory('ipopt')\n",
    "results=Res.solve(model)"
   ]
  },
  {
   "cell_type": "code",
   "execution_count": 5,
   "id": "58939962",
   "metadata": {},
   "outputs": [
    {
     "name": "stdout",
     "output_type": "stream",
     "text": [
      "x= 7.071\n"
     ]
    }
   ],
   "source": [
    "print('x=',round(value(model.x),3))# Rouding it to three decimal spaces for accuracy"
   ]
  },
  {
   "cell_type": "code",
   "execution_count": 6,
   "id": "1643fa2a",
   "metadata": {},
   "outputs": [
    {
     "name": "stdout",
     "output_type": "stream",
     "text": [
      "y= 7.071\n"
     ]
    }
   ],
   "source": [
    "print('y=',round(value(model.y),3))# Rouding it to three decimal spaces for accuracy"
   ]
  },
  {
   "cell_type": "code",
   "execution_count": 7,
   "id": "98784e82",
   "metadata": {},
   "outputs": [
    {
     "name": "stdout",
     "output_type": "stream",
     "text": [
      "OF= 200.0\n"
     ]
    }
   ],
   "source": [
    "print('OF=',round(value(model.obj),3))# Rouding it to three decimal spaces for accuracy"
   ]
  },
  {
   "cell_type": "code",
   "execution_count": 9,
   "id": "d3fea1f5",
   "metadata": {},
   "outputs": [],
   "source": [
    "model.x.fix(1)\n",
    "Res1=SolverFactory('ipopt')\n",
    "results1=Res1.solve(model)"
   ]
  },
  {
   "cell_type": "code",
   "execution_count": 10,
   "id": "1c514c87",
   "metadata": {},
   "outputs": [
    {
     "name": "stdout",
     "output_type": "stream",
     "text": [
      "x= 1\n"
     ]
    }
   ],
   "source": [
    "print('x=',round(value(model.x),3))# Rouding it to three decimal spaces for accuracy"
   ]
  },
  {
   "cell_type": "code",
   "execution_count": 11,
   "id": "6720a97d",
   "metadata": {},
   "outputs": [
    {
     "name": "stdout",
     "output_type": "stream",
     "text": [
      "y= 9.95\n"
     ]
    }
   ],
   "source": [
    "print('y=',round(value(model.y),3))# Rouding it to three decimal spaces for accuracy"
   ]
  },
  {
   "cell_type": "code",
   "execution_count": 12,
   "id": "74e97803",
   "metadata": {},
   "outputs": [
    {
     "name": "stdout",
     "output_type": "stream",
     "text": [
      "OF= 39.799\n"
     ]
    }
   ],
   "source": [
    "print('OF=',round(value(model.obj),3))# Rouding it to three decimal spaces for accuracy"
   ]
  },
  {
   "cell_type": "code",
   "execution_count": null,
   "id": "97ef65ae",
   "metadata": {},
   "outputs": [],
   "source": [
    "# model.x.unfix()\n",
    "model.y.unfix()\n",
    "solver=SolverFactory('ipopt')\n",
    "FinalResults=solver.solve(model);\n",
    "print(FinalResults)"
   ]
  },
  {
   "cell_type": "code",
   "execution_count": 14,
   "id": "5105ec53",
   "metadata": {},
   "outputs": [
    {
     "name": "stdout",
     "output_type": "stream",
     "text": [
      "x= 9.95\n",
      "y= 1\n",
      "OF= 39.799\n"
     ]
    }
   ],
   "source": [
    "model.x.unfix()\n",
    "model.y.fix(1)\n",
    "Res2=SolverFactory('ipopt')\n",
    "results2=Res2.solve(model)\n",
    "print('x=',round(value(model.x),3))# Rouding it to three decimal spaces for accuracy\n",
    "print('y=',round(value(model.y),3))# Rouding it to three decimal spaces for accuracy\n",
    "print('OF=',round(value(model.obj),3))# Rouding it to three decimal spaces for accuracy"
   ]
  },
  {
   "cell_type": "markdown",
   "id": "1753ce98",
   "metadata": {},
   "source": []
  }
 ],
 "metadata": {
  "kernelspec": {
   "display_name": "Python 3",
   "language": "python",
   "name": "python3"
  },
  "language_info": {
   "codemirror_mode": {
    "name": "ipython",
    "version": 3
   },
   "file_extension": ".py",
   "mimetype": "text/x-python",
   "name": "python",
   "nbconvert_exporter": "python",
   "pygments_lexer": "ipython3",
   "version": "3.8.11"
  }
 },
 "nbformat": 4,
 "nbformat_minor": 5
}
