{
 "cells": [
  {
   "cell_type": "code",
   "execution_count": 5,
   "id": "97a76ec2",
   "metadata": {},
   "outputs": [],
   "source": [
    "from pyomo.environ import *\n",
    "import matplotlib.pyplot as plt\n",
    "import numpy as np\n",
    "import random\n",
    "#maximise OF = 2*pi*r^2*h\n",
    "# given constraint r^2+h^2=R^2\n",
    "#bounds 0<=r<=R\n",
    "# 0<=h<=R"
   ]
  },
  {
   "cell_type": "code",
   "execution_count": 24,
   "id": "9407b6b0",
   "metadata": {},
   "outputs": [],
   "source": [
    "model = ConcreteModel()#defining that the optimisation mimics a concrete model\n",
    "model.Rad=Param(initialize=1) # trying to initialize with a random variable\n",
    "model.r = Var(bounds=(0,model.Rad), initialize=model.Rad ) #model 1--> refers to variable r\n",
    "model.h = Var(bounds=(0,model.Rad), initialize=model.Rad) #model 2-->refers to variable h\n",
    "model.con1=Constraint(expr=model.r**2+model.h**2==model.Rad**2)#Constraint (Pythagoras)\n",
    "model.obj = Objective(expr=2*(np.pi)*model.r**2*model.h, sense=maximize)# Objective function to be maximised"
   ]
  },
  {
   "cell_type": "code",
   "execution_count": 25,
   "id": "34d255ae",
   "metadata": {},
   "outputs": [],
   "source": [
    "solver=SolverFactory('ipopt')\n",
    "results=solver.solve(model)"
   ]
  },
  {
   "cell_type": "code",
   "execution_count": 26,
   "id": "ca397e82",
   "metadata": {},
   "outputs": [
    {
     "name": "stdout",
     "output_type": "stream",
     "text": [
      "r= 0.82\n",
      "h= 0.58\n",
      "OF= 2.42\n",
      "r= 0.8164965807359517\n"
     ]
    }
   ],
   "source": [
    "print('r=',round(value(model.r),2))# Rouding it to two decimal spaces for accuracy\n",
    "print('h=',round(value(model.h),2))# Rouding it to two decimal spaces for accuracy\n",
    "print('OF=',round(value(model.obj),2))# Rouding it to two decimal spaces for accuracy\n",
    "\n",
    "\n",
    "print('r=',value(model.r))#incase rounding is not needed\n",
    "\n"
   ]
  },
  {
   "cell_type": "code",
   "execution_count": 27,
   "id": "b2038a90",
   "metadata": {},
   "outputs": [
    {
     "name": "stdout",
     "output_type": "stream",
     "text": [
      "\n",
      "Problem: \n",
      "- Lower bound: -inf\n",
      "  Upper bound: inf\n",
      "  Number of objectives: 1\n",
      "  Number of constraints: 1\n",
      "  Number of variables: 2\n",
      "  Sense: unknown\n",
      "Solver: \n",
      "- Status: ok\n",
      "  Message: Ipopt 3.14.2\\x3a Optimal Solution Found\n",
      "  Termination condition: optimal\n",
      "  Id: 0\n",
      "  Error rc: 0\n",
      "  Time: 0.04022669792175293\n",
      "Solution: \n",
      "- number of solutions: 0\n",
      "  number of solutions displayed: 0\n",
      "\n"
     ]
    }
   ],
   "source": [
    "print(results)"
   ]
  },
  {
   "cell_type": "code",
   "execution_count": null,
   "id": "6c735057",
   "metadata": {},
   "outputs": [],
   "source": []
  }
 ],
 "metadata": {
  "kernelspec": {
   "display_name": "Python 3",
   "language": "python",
   "name": "python3"
  },
  "language_info": {
   "codemirror_mode": {
    "name": "ipython",
    "version": 3
   },
   "file_extension": ".py",
   "mimetype": "text/x-python",
   "name": "python",
   "nbconvert_exporter": "python",
   "pygments_lexer": "ipython3",
   "version": "3.8.11"
  }
 },
 "nbformat": 4,
 "nbformat_minor": 5
}
